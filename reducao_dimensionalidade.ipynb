{
  "nbformat": 4,
  "nbformat_minor": 0,
  "metadata": {
    "colab": {
      "provenance": [],
      "authorship_tag": "ABX9TyOfOpnq+msBlZ6mwnP09ssN",
      "include_colab_link": true
    },
    "kernelspec": {
      "name": "python3",
      "display_name": "Python 3"
    },
    "language_info": {
      "name": "python"
    }
  },
  "cells": [
    {
      "cell_type": "markdown",
      "metadata": {
        "id": "view-in-github",
        "colab_type": "text"
      },
      "source": [
        "<a href=\"https://colab.research.google.com/github/frohlich71/reducao_dimensionalidade/blob/main/reducao_dimensionalidade.ipynb\" target=\"_parent\"><img src=\"https://colab.research.google.com/assets/colab-badge.svg\" alt=\"Open In Colab\"/></a>"
      ]
    },
    {
      "cell_type": "code",
      "execution_count": 5,
      "metadata": {
        "colab": {
          "base_uri": "https://localhost:8080/"
        },
        "id": "obdcEq1-Eq-1",
        "outputId": "89e14877-f5cf-40de-e713-d6db9b2263f2"
      },
      "outputs": [
        {
          "output_type": "stream",
          "name": "stdout",
          "text": [
            "############################################################################################# 100.0%\n"
          ]
        }
      ],
      "source": [
        "#BAIXANDO A IMAGEM\n",
        "!curl -L -o Lenna_test_image.png --progress-bar https://camo.githubusercontent.com/0126636c94b7b4016f05c40c25e7710b218ba33ddc35836f4d0c5d62ad5a24a2/68747470733a2f2f7261772e6769746875622e636f6d2f6d696b6f6c616c7973656e6b6f2f6c656e612f6d61737465722f6c656e612e706e67"
      ]
    },
    {
      "cell_type": "code",
      "source": [
        "from PIL import Image"
      ],
      "metadata": {
        "id": "VHGRhYSDGWff"
      },
      "execution_count": 7,
      "outputs": []
    },
    {
      "cell_type": "code",
      "source": [
        "def transforma_cinza(imagem):\n",
        "\n",
        "    img = Image.open(imagem)\n",
        "\n",
        "    largura, altura = img.size\n",
        "\n",
        "    pixels = img.load()\n",
        "\n",
        "    for y in range(altura):\n",
        "        for x in range(largura):\n",
        "            r, g, b = pixels[x, y]\n",
        "\n",
        "            media = (r + g + b) // 3\n",
        "\n",
        "            pixels[x, y] = (media, media, media)\n",
        "\n",
        "    img.save('imagem_tons_de_cinza.png')\n"
      ],
      "metadata": {
        "id": "Jeqw8X4qJQw_"
      },
      "execution_count": 33,
      "outputs": []
    },
    {
      "cell_type": "code",
      "source": [
        "def transforma_binario(imagem):\n",
        "\n",
        "    limite = 128\n",
        "\n",
        "    img = Image.open(imagem)\n",
        "\n",
        "    largura, altura = img.size\n",
        "\n",
        "    pixels = img.load()\n",
        "\n",
        "    for y in range(altura):\n",
        "        for x in range(largura):\n",
        "            r, g ,b = pixels[x, y]\n",
        "\n",
        "            if (r < limite) :\n",
        "              pixels[x, y] = (0, 0, 0)\n",
        "            else :\n",
        "              pixels[x, y] = (255, 255, 255)\n",
        "\n",
        "    img.save('imagem_binaria.png')"
      ],
      "metadata": {
        "id": "k1CR5YqePazN"
      },
      "execution_count": 38,
      "outputs": []
    },
    {
      "cell_type": "code",
      "source": [
        "transforma_cinza('Lenna_test_image.png')\n",
        "transforma_binario('imagem_tons_de_cinza.png')"
      ],
      "metadata": {
        "id": "gvhSddFEKX8D"
      },
      "execution_count": 39,
      "outputs": []
    }
  ]
}